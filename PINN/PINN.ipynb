{
 "cells": [
  {
   "cell_type": "code",
   "execution_count": 3,
   "metadata": {},
   "outputs": [],
   "source": [
    "import torch\n",
    "import torch.nn as nn \n",
    "import torch.optim as optim"
   ]
  },
  {
   "cell_type": "markdown",
   "metadata": {},
   "source": [
    "Arquitectura de la red neuronal \n",
    "\n",
    "Con esto nos referimos a la cantidad de layers(capas) y unidaades(neuronas) que tenddra \n",
    "toda la red. Veremos que se usa una entrada de 2 (carga y distancia) y una salida de 1 , i.e la Fuerza De Couloumb"
   ]
  },
  {
   "cell_type": "code",
   "execution_count": 5,
   "metadata": {},
   "outputs": [],
   "source": [
    "class FuerzaElectrica(nn.Module):\n",
    "    def __init__(self):\n",
    "        super(FuerzaElectrica,self).__init__()\n",
    "        self.fc1 = nn.linear(2,64)\n",
    "        self.fc2 = nn.linear(64,1)\n",
    "\n",
    "    def forward(self,x):\n",
    "        pass"
   ]
  },
  {
   "cell_type": "code",
   "execution_count": null,
   "metadata": {},
   "outputs": [],
   "source": []
  }
 ],
 "metadata": {
  "kernelspec": {
   "display_name": "Python 3",
   "language": "python",
   "name": "python3"
  },
  "language_info": {
   "codemirror_mode": {
    "name": "ipython",
    "version": 3
   },
   "file_extension": ".py",
   "mimetype": "text/x-python",
   "name": "python",
   "nbconvert_exporter": "python",
   "pygments_lexer": "ipython3",
   "version": "3.10.12"
  },
  "orig_nbformat": 4
 },
 "nbformat": 4,
 "nbformat_minor": 2
}
