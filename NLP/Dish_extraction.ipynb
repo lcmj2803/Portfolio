{
 "cells": [
  {
   "cell_type": "code",
   "execution_count": 1,
   "metadata": {},
   "outputs": [],
   "source": [
    "import requests\n",
    "from bs4 import BeautifulSoup\n",
    "import pandas as pd"
   ]
  },
  {
   "cell_type": "code",
   "execution_count": 2,
   "metadata": {},
   "outputs": [],
   "source": [
    "url = 'https://en.wikipedia.org/wiki/Panamanian_cuisine'\n",
    "respuesta = requests.get(url)\n",
    "\n",
    "if respuesta.status_code == 200:\n",
    "    html_content = respuesta.content        \n",
    "else:\n",
    "    print(f'ERROR : {respuesta.status_code}')"
   ]
  },
  {
   "cell_type": "code",
   "execution_count": 3,
   "metadata": {},
   "outputs": [],
   "source": [
    "contenido_de_pagina = BeautifulSoup(html_content,'html.parser')\n",
    "\n",
    "lista_de_platos = contenido_de_pagina.find('div',class_ ='mw-parser-output')\n",
    "\n",
    "\n",
    "if lista_de_platos: \n",
    "    platos = [dish.text for dish in lista_de_platos.find_all('li')]\n",
    "else:\n",
    "    print('N/A')"
   ]
  },
  {
   "cell_type": "code",
   "execution_count": 4,
   "metadata": {},
   "outputs": [
    {
     "name": "stdout",
     "output_type": "stream",
     "text": [
      "['to 1821', '1821–1903', '1904–1964\\n1939–1945', '1939–1945', '1964–1977', '1977–present', 'Reunification of Gran Colombia', 'World Heritage Sites', 'Flag', 'Coat of arms', 'National anthem', '\\xa0Panama portal', 'v', 't', 'e', 'Almojábanos – \"S\" shaped corn fritters.[3]', 'Arroz con camarones y coco – rice with shrimp and coconut milk.', 'Arroz con chorizo y ajíes dulces[citation needed]', 'Arroz con pollo[4]', 'Arroz con puerco y vegetales[5]', 'Arroz verde[6]', 'Bistec de higado – liver steak', 'Bistec picado – chopped beefsteak.', 'Bollos – corn dough wrapped in nahuala palm leaves,[7] corn husk or plantain leaves and boiled. There are two main varieties: fresh corn bollos (bollos de maíz nuevo) and dry corn bollos. The dry corn type is sometimes flavored with butter, corn, or stuffed with beef, which is called bollo \"preñado\" (lit. \"pregnant bollo\"). Bollos have been described as a type of tamale.[8][9]', 'Carne entomatada', 'Carimañola – similar to an empanada, but made from yuca and stuffed with beef[1]', 'Ceviche – commonly made from corvina and tilapia[1]', 'Chorizo con vegetales[citation needed]', 'Chuletas en salsa de piña', 'Empanadas – made either from flour or corn, and stuffed with meats and/or vegetables,[10] cheese, and sometimes sweet fillings, such as fruit marmalade or manjar blanco (dulce de leche).', 'Ensalada de papas – potato salad, called ensalada de feria when beetroot is added.', 'Fried fish', 'Gaucho soup[4]', 'Hojaldres/Hojaldras – a type of fry-bread, similar to South American countries, known in other countries as \"blach tostones\".', 'Lengua guisada – stewed beef tongue[11]', 'Mondongo a la culona – stewed beef tripe[12]', 'Palm tree flower – prepared like spaghetti[13]', 'Pernil de puerco al horno – roasted pork leg', 'Plátano en tentacion – ripe plantain cooked in a sweet syrup.', 'Ropa vieja[14]', 'Salpicón de carne[15]', 'Sancocho[6]', 'Tamal de olla[1]', 'Tamales[4]', 'Tortillas – these can be around ten to twelve inches in diameter (these are always cooked on a griddle), or smaller, around four inches (most of the time these are fried).', 'Torrejitas (Pastelitos) de maíz – A fresh corn fritter.', 'Tortilla Changa – a thick tortilla made out of fresh corn.', 'Tasajo – dried, sometimes smoked meat,[16] usually from beef though the word refers mainly to the mode of curing rather than the type of meat.', 'Bocadillo – Hardened square milk candies.[17]', 'Bocado de la reina', 'Bolitas de tamarindo – Sugar balls with tamarind fruit.[17]', 'Cabanga', 'Cocadas [1]', 'Cocadas – Coconut rolled candy made from condensed milk.[17]', 'Dulce de papaya', 'Flan – Rimmed pastry or sponge base containing a sweet or savoury filling.[1]', 'Gollería – sweetened plantain fritter', 'Huevitos de leche- Balls of milk candy[17]', 'Mamallena', 'Manjar or manjar blanco[17][18]', 'Mazamorra or pesada de nance', 'Meringue – Whipped eggs and sugar baked.[17]', 'Orejitas – Ear shaped sugar coated flour.[17]', 'Queque', 'Seasonal pineapple – grown in Panama using a hybrid of Hawaiian pineapple, it is very sweet[19]', 'Sopa borracha [20]', 'Suspiros – Wafers made from flour that release air when you bite.[17]', 'Tres leches[21]', 'Beer', 'Chicha[23]', 'Chicheme[1]', 'Coffee', 'Fresh fruit juices (licuados or jugos naturales) – pineapple, passionfruit, papaya, orange, tree tomato, etc. are prepared by blending fresh fruit and straining; typically heavily sweetened and optionally with condensed milk added', 'Malteada – a malted eskimo-like milkshake without ice cream', 'Resbaladera', 'Ron ponche[24]', 'Saril – a drink containing sorrel sepals, ginger, cinnamon, cloves, sugar, water, and a splash of rum)', 'Seco Herrerano[25]', 'Achiote – common in Panamanian cuisine[13]', 'Aji chombo – a hot pepper grown in local regions[13]', 'Food portal', 'Panama portal', '^ a b c d e f g Baker, C.P.; Mingasson, G. (2007). Panama. National Geographic traveler. National Geographic Society. pp.\\xa022–23. ISBN\\xa0978-1-4262-0146-2. Retrieved October 17, 2018.\\n', '^ \"Eating Down South: The Panama Experience\". Jamaica Observer. November 28, 2016. Retrieved October 18, 2018.\\n', '^ \"This Cheese Curl Gets Its Own Festival\". Atlas Obscura. Retrieved 17 October 2018.\\n', '^ a b c Helstosky, C. (2014). The Routledge History of Food. Routledge Histories. Taylor & Francis. p.\\xa0296. ISBN\\xa0978-1-317-62113-3. Retrieved October 17, 2018.\\n', '^ \"The Exotic and Tempting Ethnic Food of Panama\". Tastessence. Retrieved 17 October 2018.\\n', '^ a b Orr, S. (2014). The New American Herbal. Crown Publishing Group. p.\\xa0159. ISBN\\xa0978-0-449-81993-7. Retrieved October 17, 2018.\\n', '^ Helstosky, C. (2014). The Routledge History of Food. Routledge Histories. Taylor & Francis. p.\\xa0pt554. ISBN\\xa0978-1-317-62112-6. Retrieved October 17, 2018.\\n', '^ Kraig, B.; D, C.T.S.P. (2013). Street Food around the World: An Encyclopedia of Food and Culture: An Encyclopedia of Food and Culture. ABC-CLIO. p.\\xa082. ISBN\\xa0978-1-59884-955-4. Retrieved October 17, 2018.\\n', \"^ Howard, A. (1999). Central America. Fodor's Up Close Series. Fodor's Travel Publications. p.\\xa0307. ISBN\\xa0978-0-679-00311-3. Retrieved October 17, 2018.\\n\", '^ Goody, C.M.; Drago, L.; American Dietetic Association (2010). Cultural Food Practices. American Dietetic Association. p.\\xa057. ISBN\\xa0978-0-88091-433-8. Retrieved October 17, 2018.\\n', '^ Berrío-Lemm, V. (2003). Panamá: tierra, gente, legado -- centenario: aproximación a las raíces del hombre panameño. Panamá (in Spanish). Ediciones del Istmo. pp.\\xa0701, 706. Retrieved October 21, 2018.\\n', '^ Berrío-Lemm, V. (2003). Panamá: tierra, gente, legado - centenario: aproximación a las raíces del hombre panameño (in Spanish). Ediciones del Istmo. p.\\xa0344. Retrieved October 21, 2018.\\n', '^ a b c Bolongaro, Kait (December 27, 2016). \"Don\\'t Know Panamanian Food? These Chefs Aim To Change That\". NPR. Retrieved October 18, 2018.\\n', \"^ Fodor's Travel Publications, I.S.; Kast, M.E.; Mattson, S.; Van Fleet, J. (2010). Fodor's Panama, 2nd Edition. Fodor's Panama. Fodors Travel Pub. p.\\xa020. ISBN\\xa0978-1-4000-0429-4. Retrieved October 17, 2018.\\n\", '^ Caras y caretas (in Spanish). 1929. Retrieved October 21, 2018.\\n', '^ Cameron, S.; Box, B. (1999). Mexico & Central America Handbook. Footprint Central America Handbook (in Italian). Footprint Handbooks. p.\\xa01168. ISBN\\xa0978-0-8442-4838-7. Retrieved October 17, 2018.\\n', '^ a b c d e f g h \"Panama Desserts\". amble.com. Archived from the original on 10 April 2019. Retrieved 22 October 2018.\\n', '^ Soley, L.V.M.S. (2008). Culture and Customs of Panama. Cultures and Customs of the World. ABC-CLIO. p.\\xa033. ISBN\\xa0978-0-313-05636-9. Retrieved October 17, 2018.\\n', '^ \"See this, skip that: Panama City, Panama\". ABC News. April 17, 2018. Retrieved October 18, 2018.\\n', '^ Nevins, D.; Quek, L.; Hassig, S.M. (2016). Panama: Third Edition. Cultures of the World (Third Edition). Cavendish Square Publishing. p.\\xa0128. ISBN\\xa0978-1-5026-2215-0. Retrieved October 17, 2018.\\n', '^ Sweet Treats around the World: An Encyclopedia of Food and Culture: An Encyclopedia of Food and Culture. ABC-CLIO. 2014. p.\\xa068. ISBN\\xa0978-1-61069-221-2. Retrieved October 17, 2018.\\n', '^ \"Lost Cocktail Culture: Navy Drinks from the Panama Canal Zone\". The Daily Beast. September 5, 2019. Retrieved 6 September 2019.\\n', '^ Soley, L.V.M.S. (2008). Culture and Customs of Panama. Cultures and Customs of the World. ABC-CLIO. p.\\xa031. ISBN\\xa0978-0-313-05636-9. Retrieved October 17, 2018.\\n', '^ a b García, Deysi. \"Ron ponche, la bebida en Navidad\". Telemetro (in Spanish). Retrieved October 19, 2018.\\n', '^ Foster, D. (2002). Global Etiquette Guide to Mexico and Latin America. John Wiley & Sons. p.\\xa087. ISBN\\xa0978-0-471-27283-0. Retrieved October 17, 2018.\\n', '^ a b Kopka, D. (2011). Welcome to Panama: Passport to Central & South America. Passport Series. p.\\xa0121. ISBN\\xa0978-0-7877-2768-0. Retrieved October 19, 2018.\\n', 'Gill, Nicholas (March 23, 2014). \"In Panama City, Mixing Global and Local Flavors\". The New York Times. Retrieved October 18, 2018.', ' Media related to Cuisine of Panama at Wikimedia Commons', 'v', 't', 'e', 'to 1821', '1821–1903', '1904–1964\\n1939–1945', '1939–1945', '1964–1977', '1977–present', 'Reunification of Gran Colombia', 'Biota', 'Cities', 'Darién Gap', 'Earthquakes', 'Islands', 'National parks', 'Rivers', 'Volcanism', 'Administrative divisions', 'Constitution', 'Elections', 'Foreign relations', 'Law', 'Law enforcement', 'National Assembly', 'Penal system', 'Political parties', 'Presidents', 'Public Forces\\nNational Police\\nSENAN\\nSENAFRONT\\nSPI', 'National Police', 'SENAN', 'SENAFRONT', 'SPI', 'Agriculture', 'Banking', 'Balboa (currency)', 'Mineral industry', 'Panama Canal', 'Telecommunications', 'Tourism', 'Transport', 'Crime', 'Demographics', 'Education', 'Health', 'LGBT rights', 'Religion', 'Water supply and sanitation', 'Cuisine', 'Films', 'Flag', 'Literature', 'Media', 'Music', 'People', 'Public holidays', 'Outline', 'Index', 'Category', 'Portal', 'v', 't', 'e', 'African\\nNorth\\nWest\\nlist', 'North', 'West', 'list', 'Americas\\nCaribbean\\nNorth\\nSouth\\nlist', 'Caribbean', 'North', 'South', 'list', 'Asian\\nCaucasian\\nCentral\\nIndian subcontinent\\nLevantine\\nlist', 'Caucasian', 'Central', 'Indian subcontinent', 'Levantine', 'list', 'European\\nBalkan\\nCentral\\nEastern\\nlist', 'Balkan', 'Central', 'Eastern', 'list', 'Oceanic', 'Intercontinental\\nGlobal\\nLatin American\\nMediterranean\\nMiddle Eastern', 'Global', 'Latin American', 'Mediterranean', 'Middle Eastern', 'Afghan', 'Albanian', 'Algerian', 'American\\nCalifornian\\nFloribbean\\nHawaiian\\nLouisiana Creole\\nLowcountry (South Carolina)\\nNew England\\nNew Mexico\\nPacific Northwest\\nPennsylvania Dutch\\nPuerto Rican\\nSouthern US\\nSouthwest US\\nTexas', 'Californian', 'Floribbean', 'Hawaiian', 'Louisiana Creole', 'Lowcountry (South Carolina)', 'New England', 'New Mexico', 'Pacific Northwest', 'Pennsylvania Dutch', 'Puerto Rican', 'Southern US', 'Southwest US', 'Texas', 'Angolan', 'Argentine', 'Armenian', 'Australian', 'Austrian', 'Azerbaijani', 'Bahraini', 'Bangladeshi', 'Barbadian', 'Belarusian', 'Belgian', 'Belizean', 'Beninese', 'Bhutanese', 'Bolivian', 'Bosnian-Herzegovinian', 'Botswana', 'Brazilian', 'British\\nChannel Islands\\nEnglish\\nGibraltarian\\nNorthern Irish\\nSaint Helena\\nScottish\\nWelsh', 'Channel Islands', 'English', 'Gibraltarian', 'Northern Irish', 'Saint Helena', 'Scottish', 'Welsh', 'Bruneian', 'Bulgarian', 'Burkinabé', 'Burmese', 'Burundian', 'Cambodian', 'Cameroonian', 'Canadian\\nAcadian\\nQuébécois', 'Acadian', 'Québécois', 'Central African Republic', 'Chadian', 'Chilean', 'Chinese\\nCantonese\\nHong Kong\\nMacanese\\nShandong\\nSichuan\\nTibetan\\nXinjiang', 'Cantonese', 'Hong Kong', 'Macanese', 'Shandong', 'Sichuan', 'Tibetan', 'Xinjiang', 'Colombian', 'Congolese', 'Corsican', 'Croatian', 'Cuban', 'Cypriot', 'Czech', 'Danish\\nFaroese\\nGreenlandic', 'Faroese', 'Greenlandic', 'Djiboutian', 'Dominican', 'Dominican Republic', 'Dutch', 'East Timorese', 'Ecuadorian', 'Egyptian', 'Emirati', 'Equatorial Guinean', 'Eritrean', 'Estonian', 'Ethiopian', 'Fijian', 'Filipino', 'Finnish', 'French\\nOccitan\\nFrench Guianan', 'Occitan', 'French Guianan', 'Gabonese', 'Gambian', 'Georgian', 'German', 'Ghanaian', 'Greek\\nCretan\\nEpirotic\\nGreek Macedonian\\nHeptanesean', 'Cretan', 'Epirotic', 'Greek Macedonian', 'Heptanesean', 'Guatemalan', 'Guinea-Bissauan', 'Guinean', 'Haitian', 'Honduran', 'Hungarian', 'Icelandic', 'Indian\\nAndhra\\nArunachalese\\nAssamese\\nBengali\\nBihari\\nGoan\\nGujarati\\nHimachal Pradesh\\nKashmiri\\nJharkhandi\\nKarnataka\\nKerala\\nMaharashtrian\\nManipuri\\nMeghalayan\\nMizo\\nNaga\\nOdia\\nPunjabi\\nRajasthani\\nSikkimese\\nSindhi\\nTamil\\nTelangana', 'Andhra', 'Arunachalese', 'Assamese', 'Bengali', 'Bihari', 'Goan', 'Gujarati', 'Himachal Pradesh', 'Kashmiri', 'Jharkhandi', 'Karnataka', 'Kerala', 'Maharashtrian', 'Manipuri', 'Meghalayan', 'Mizo', 'Naga', 'Odia', 'Punjabi', 'Rajasthani', 'Sikkimese', 'Sindhi', 'Tamil', 'Telangana', 'Indonesian\\nAcehnese\\nBalinese\\nBanjar\\nBatak\\nBetawi\\nGorontalese\\nIndo\\nJavanese\\nMadurese\\nMakassar\\nMinahasan\\nMinangkabau\\nPalembangese\\nSundanese', 'Acehnese', 'Balinese', 'Banjar', 'Batak', 'Betawi', 'Gorontalese', 'Indo', 'Javanese', 'Madurese', 'Makassar', 'Minahasan', 'Minangkabau', 'Palembangese', 'Sundanese', 'Iranian', 'Iraqi', 'Irish', 'Israeli', 'Italian\\nAbruzzese\\nLigurian\\nLombard\\nLucanian\\nNeapolitan\\nRoman\\nSardinian\\nSicilian\\nVenetian', 'Abruzzese', 'Ligurian', 'Lombard', 'Lucanian', 'Neapolitan', 'Roman', 'Sardinian', 'Sicilian', 'Venetian', 'Ivorian', 'Jamaican', 'Japanese\\nOkinawan', 'Okinawan', 'Jordanian', 'Kazakh', 'Kenyan', 'Korean\\nNorth Korean\\nSouth Korean', 'North Korean', 'South Korean', 'Kosovan', 'Kuwaiti', 'Kyrgyz', 'Lao', 'Latvian', 'Lebanese', 'Lesotho', 'Liberian', 'Libyan', 'Liechtensteiner', 'Lithuanian', 'Luxembourg', 'Macedonian', 'Malagasy', 'Malawian', 'Malaysian\\nSabahan\\nSarawakian', 'Sabahan', 'Sarawakian', 'Maldivian', 'Malian', 'Maltese', 'Mauritanian', 'Mauritian', 'Mexican', 'Moldovan', 'Monégasque', 'Mongolian', 'Montenegrin', 'Moroccan', 'Mozambican', 'Namibian', 'Nauruan', 'Nepalese', 'New Zealand', 'Nicaraguan', 'Niger', 'Nigerian', 'Niuean', 'Norwegian', 'Omani', 'Pakistani', 'Palestinian', 'Panamanian', 'Peruvian', 'Polish', 'Portuguese', 'Qatari', 'Romanian (incl. Transylvanian Saxon)', 'Russian\\nBashkir\\nChechen\\nCircassian\\nCossack\\nKomi\\nMordovian\\nSakha\\nTatar\\nUdmurt\\nYamal', 'Bashkir', 'Chechen', 'Circassian', 'Cossack', 'Komi', 'Mordovian', 'Sakha', 'Tatar', 'Udmurt', 'Yamal', 'Rwandan', 'Saint Lucian', 'Salvadoran', 'Sammarinese', 'São Tomé and Príncipe', 'Saudi Arabian', 'Senegalese', 'Serbian', 'Seychellois', 'Sierra Leonean', 'Singaporean', 'Slovak', 'Slovenian', 'Somali', 'South African', 'Spanish\\nAndalusian\\nAsturian\\nBalearic\\nBasque\\nCanarian\\nCantabrian\\nCatalan\\nExtremaduran\\nGalician\\nManchegan\\nValencian', 'Andalusian', 'Asturian', 'Balearic', 'Basque', 'Canarian', 'Cantabrian', 'Catalan', 'Extremaduran', 'Galician', 'Manchegan', 'Valencian', 'Sri Lankan', 'Sudanese', 'Swazi', 'Swedish', 'Swiss', 'Syrian', 'Taiwanese', 'Tajik', 'Tanzanian\\nZanzibari', 'Zanzibari', 'Thai', 'Togolese', 'Tunisian', 'Turkish', 'Turkmen', 'Trinidadian and Tobagonian', 'Ugandan', 'Ukrainian', 'Uruguayan', 'Uzbek', 'Venezuelan', 'Vietnamese', 'Western Saharan', 'Yemeni', 'Zambian', 'Zimbabwean', 'Ainu', 'Arab\\nIndonesian', 'Indonesian', 'Aromanian', 'Assyrian', 'Balochi', 'Berber', 'Bush tucker', 'Buryat', 'Cajun', 'Chinese\\nAmerican\\nCanadian\\nChifa\\nIndian\\nIndonesian\\nMalaysian\\nPakistani', 'American', 'Canadian', 'Chifa', 'Indian', 'Indonesian', 'Malaysian', 'Pakistani', 'Crimean Tatar', 'Greek American', 'Hazaragi', 'Indian\\nAnglo-Indian\\nIndonesian\\nMalaysian', 'Anglo-Indian', 'Indonesian', 'Malaysian', 'Indigenous American', 'Inuit', 'Italian American', 'Jewish\\nAmerican\\nAshkenazi\\nBukharan\\nEthiopian\\nMizrahi\\nSephardic\\nSyrian', 'American', 'Ashkenazi', 'Bukharan', 'Ethiopian', 'Mizrahi', 'Sephardic', 'Syrian', 'Kurdish', 'Livonian', 'Louisiana Creole', 'Malay', 'Ossetian', 'Parsi', 'Pashtun', 'Peranakan', 'Pontic Greek', 'Romani', 'Sámi', 'Soul food', 'Sylheti', 'Transylvanian Saxon', \"Yup'ik\", 'Buddhist', 'Christian\\nGoan Catholic\\nMangalorean Catholic\\nMennonite', 'Goan Catholic', 'Mangalorean Catholic', 'Mennonite', 'Hindu', 'Islamic\\nChinese', 'Chinese', 'Ital', 'Jain', 'Kashrut\\nKosher food', 'Kosher food', 'Ritual slaughter', 'Sikh', 'Ancient Egyptian', 'Ancient Greek', 'Ancient Israelite', 'Ancient Roman', 'Antebellum America', 'Aztec', 'Byzantine', 'Early modern European', 'Historical Argentine', 'Historical Chinese', 'Historical Indian subcontinent', 'Historical Japanese', 'Historical North Indian and Pakistani', 'History of agriculture', 'History of alcoholic drinks', 'History of bread', 'History of seafood', 'History of vegetarianism', 'Hittite', 'Inca', 'Mayan', 'Muisca', 'Mughal', 'Medieval', 'Ottoman', 'Peasant', 'Pre-contact Hawaiian', 'Korean royal court', 'Scottish royal household', 'Soviet', 'Thirteen Colonies', 'Classique', 'Fast food', 'Fusion\\nNew American\\nEurasian', 'New American', 'Eurasian', 'Haute', 'Molecular gastronomy', 'Note by Note', 'Nouvelle', 'Vegetarian', 'List of cuisines', 'List of historical cuisines', 'Lists of prepared foods', 'Cookbook', 'Cooking', 'Culinary arts', 'Drink', 'Food\\nhistory\\nsociology', 'history', 'sociology', 'Diet', 'Meal\\nMeal preparation', 'Meal preparation', '\\xa0Food portal', '\\xa0Drink portal', ' Category', ' Commons', ' Cookbook', ' WikiProject', ' Outline', 'v', 't', 'e', 'Antigua and Barbuda', 'Bahamas', 'Barbados', 'Belize', 'Canada', 'Costa Rica', 'Cuba', 'Dominica', 'Dominican Republic', 'El Salvador', 'Grenada', 'Guatemala', 'Haiti', 'Honduras', 'Jamaica', 'Mexico', 'Nicaragua', 'Panama', 'Saint Kitts and Nevis', 'Saint Lucia', 'Saint Vincent and the Grenadines', 'Trinidad and Tobago', 'United States', 'Anguilla', 'Aruba', 'Bermuda', 'Bonaire', 'British Virgin Islands', 'Cayman Islands', 'Curaçao', 'Greenland', 'Guadeloupe', 'Martinique', 'Montserrat', 'Puerto Rico', 'Saint Barthélemy', 'Saint Martin', 'Saint Pierre and Miquelon', 'Saba', 'Sint Eustatius', 'Sint Maarten', 'Turks and Caicos Islands', 'United States Virgin Islands', '\\xa0Food portal', '\\xa0Category: North American cuisine', 'Israel', 'United States']\n"
     ]
    }
   ],
   "source": [
    "print(platos)"
   ]
  },
  {
   "cell_type": "code",
   "execution_count": 5,
   "metadata": {},
   "outputs": [],
   "source": [
    "platos_enumerados = pd.DataFrame({'Plato': platos})\n",
    "platos_enumerados_csv = platos_enumerados.to_csv('platos.csv',index= False)"
   ]
  },
  {
   "cell_type": "code",
   "execution_count": 6,
   "metadata": {},
   "outputs": [
    {
     "data": {
      "text/html": [
       "<div>\n",
       "<style scoped>\n",
       "    .dataframe tbody tr th:only-of-type {\n",
       "        vertical-align: middle;\n",
       "    }\n",
       "\n",
       "    .dataframe tbody tr th {\n",
       "        vertical-align: top;\n",
       "    }\n",
       "\n",
       "    .dataframe thead th {\n",
       "        text-align: right;\n",
       "    }\n",
       "</style>\n",
       "<table border=\"1\" class=\"dataframe\">\n",
       "  <thead>\n",
       "    <tr style=\"text-align: right;\">\n",
       "      <th></th>\n",
       "      <th>Plato</th>\n",
       "    </tr>\n",
       "  </thead>\n",
       "  <tbody>\n",
       "    <tr>\n",
       "      <th>0</th>\n",
       "      <td>to 1821</td>\n",
       "    </tr>\n",
       "    <tr>\n",
       "      <th>1</th>\n",
       "      <td>1821–1903</td>\n",
       "    </tr>\n",
       "    <tr>\n",
       "      <th>2</th>\n",
       "      <td>1904–1964\\n1939–1945</td>\n",
       "    </tr>\n",
       "    <tr>\n",
       "      <th>3</th>\n",
       "      <td>1939–1945</td>\n",
       "    </tr>\n",
       "    <tr>\n",
       "      <th>4</th>\n",
       "      <td>1964–1977</td>\n",
       "    </tr>\n",
       "  </tbody>\n",
       "</table>\n",
       "</div>"
      ],
      "text/plain": [
       "                  Plato\n",
       "0               to 1821\n",
       "1             1821–1903\n",
       "2  1904–1964\\n1939–1945\n",
       "3             1939–1945\n",
       "4             1964–1977"
      ]
     },
     "execution_count": 6,
     "metadata": {},
     "output_type": "execute_result"
    }
   ],
   "source": [
    "platos_de_comida_panameña = pd.read_csv('platos.csv')\n",
    "platos_de_comida_panameña.head()\n"
   ]
  },
  {
   "cell_type": "code",
   "execution_count": 7,
   "metadata": {},
   "outputs": [
    {
     "data": {
      "text/plain": [
       "Plato    0\n",
       "dtype: int64"
      ]
     },
     "execution_count": 7,
     "metadata": {},
     "output_type": "execute_result"
    }
   ],
   "source": [
    "platos_de_comida_panameña.isnull().sum()"
   ]
  },
  {
   "cell_type": "code",
   "execution_count": 8,
   "metadata": {},
   "outputs": [],
   "source": [
    "menu_panama_final = pd.read_excel('Platos_panama_final.xlsx')"
   ]
  },
  {
   "cell_type": "code",
   "execution_count": 9,
   "metadata": {},
   "outputs": [
    {
     "name": "stdout",
     "output_type": "stream",
     "text": [
      "                                               Platos\n",
      "0         AlmojÃ¡banos â€“ \"S\" shaped corn fritters.3\n",
      "1   Arroz con camarones y coco â€“ rice with shrim...\n",
      "2                                    Arroz con pollo4\n",
      "3                       Arroz con puerco y vegetales5\n",
      "4                                        Arroz verde6\n",
      "..                                                ...\n",
      "59                                       Ron ponche24\n",
      "60  Saril â€“ a drink containing sorrel sepals, gi...\n",
      "61                                   Seco Herrerano25\n",
      "62         Achiote â€“ common in Panamanian cuisine13\n",
      "63  Aji chombo â€“ a hot pepper grown in local reg...\n",
      "\n",
      "[64 rows x 1 columns]\n"
     ]
    }
   ],
   "source": [
    "menu_panama_final.to_csv('menu_panama.csv', index = False)\n",
    "print(menu_panama_final)"
   ]
  },
  {
   "cell_type": "code",
   "execution_count": 10,
   "metadata": {},
   "outputs": [],
   "source": [
    "df_menu_panama_final = pd.read_csv('menu_panama.csv')"
   ]
  },
  {
   "cell_type": "code",
   "execution_count": 11,
   "metadata": {},
   "outputs": [],
   "source": [
    "from faker import Faker\n",
    "import random \n",
    "data_falsa = Faker()"
   ]
  },
  {
   "cell_type": "code",
   "execution_count": 12,
   "metadata": {},
   "outputs": [],
   "source": [
    "df_menu_panama_final[\"Cosas\"] = [data_falsa.words(nb=3) for _ in range(len(df_menu_panama_final))]   "
   ]
  },
  {
   "cell_type": "code",
   "execution_count": 13,
   "metadata": {},
   "outputs": [
    {
     "data": {
      "text/html": [
       "<div>\n",
       "<style scoped>\n",
       "    .dataframe tbody tr th:only-of-type {\n",
       "        vertical-align: middle;\n",
       "    }\n",
       "\n",
       "    .dataframe tbody tr th {\n",
       "        vertical-align: top;\n",
       "    }\n",
       "\n",
       "    .dataframe thead th {\n",
       "        text-align: right;\n",
       "    }\n",
       "</style>\n",
       "<table border=\"1\" class=\"dataframe\">\n",
       "  <thead>\n",
       "    <tr style=\"text-align: right;\">\n",
       "      <th></th>\n",
       "      <th>Platos</th>\n",
       "      <th>Cosas</th>\n",
       "    </tr>\n",
       "  </thead>\n",
       "  <tbody>\n",
       "    <tr>\n",
       "      <th>0</th>\n",
       "      <td>AlmojÃ¡banos â€“ \"S\" shaped corn fritters.3</td>\n",
       "      <td>[court, property, official]</td>\n",
       "    </tr>\n",
       "    <tr>\n",
       "      <th>1</th>\n",
       "      <td>Arroz con camarones y coco â€“ rice with shrim...</td>\n",
       "      <td>[part, draw, real]</td>\n",
       "    </tr>\n",
       "    <tr>\n",
       "      <th>2</th>\n",
       "      <td>Arroz con pollo4</td>\n",
       "      <td>[professional, ability, southern]</td>\n",
       "    </tr>\n",
       "    <tr>\n",
       "      <th>3</th>\n",
       "      <td>Arroz con puerco y vegetales5</td>\n",
       "      <td>[section, bit, method]</td>\n",
       "    </tr>\n",
       "    <tr>\n",
       "      <th>4</th>\n",
       "      <td>Arroz verde6</td>\n",
       "      <td>[loss, toward, simply]</td>\n",
       "    </tr>\n",
       "  </tbody>\n",
       "</table>\n",
       "</div>"
      ],
      "text/plain": [
       "                                              Platos   \n",
       "0        AlmojÃ¡banos â€“ \"S\" shaped corn fritters.3  \\\n",
       "1  Arroz con camarones y coco â€“ rice with shrim...   \n",
       "2                                   Arroz con pollo4   \n",
       "3                      Arroz con puerco y vegetales5   \n",
       "4                                       Arroz verde6   \n",
       "\n",
       "                               Cosas  \n",
       "0        [court, property, official]  \n",
       "1                 [part, draw, real]  \n",
       "2  [professional, ability, southern]  \n",
       "3             [section, bit, method]  \n",
       "4             [loss, toward, simply]  "
      ]
     },
     "execution_count": 13,
     "metadata": {},
     "output_type": "execute_result"
    }
   ],
   "source": [
    "df_menu_panama_final.head()"
   ]
  },
  {
   "cell_type": "code",
   "execution_count": 14,
   "metadata": {},
   "outputs": [],
   "source": [
    "df_menu_panama_final['Preparación'] = [random.randint(10, 120) for _ in range(len(df_menu_panama_final))]\n",
    "df_menu_panama_final['User_Rating'] = [random.uniform(1, 5) for _ in range(len(df_menu_panama_final))]"
   ]
  },
  {
   "cell_type": "code",
   "execution_count": 15,
   "metadata": {},
   "outputs": [],
   "source": [
    "df_menu_panama_final.to_csv('dataset_con_data_falsa.csv',index=False)"
   ]
  },
  {
   "cell_type": "code",
   "execution_count": 16,
   "metadata": {},
   "outputs": [],
   "source": [
    "dataset_final = pd.read_csv('dataset_con_data_falsa.csv')"
   ]
  },
  {
   "cell_type": "code",
   "execution_count": null,
   "metadata": {},
   "outputs": [],
   "source": []
  },
  {
   "cell_type": "code",
   "execution_count": null,
   "metadata": {},
   "outputs": [],
   "source": []
  }
 ],
 "metadata": {
  "kernelspec": {
   "display_name": "Python 3",
   "language": "python",
   "name": "python3"
  },
  "language_info": {
   "codemirror_mode": {
    "name": "ipython",
    "version": 3
   },
   "file_extension": ".py",
   "mimetype": "text/x-python",
   "name": "python",
   "nbconvert_exporter": "python",
   "pygments_lexer": "ipython3",
   "version": "3.10.12"
  },
  "orig_nbformat": 4
 },
 "nbformat": 4,
 "nbformat_minor": 2
}
