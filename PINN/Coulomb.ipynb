{
 "cells": [
  {
   "cell_type": "code",
   "execution_count": 25,
   "metadata": {},
   "outputs": [],
   "source": [
    "import numpy as np \n",
    "import csv\n",
    "import pandas as pd "
   ]
  },
  {
   "cell_type": "code",
   "execution_count": 29,
   "metadata": {},
   "outputs": [],
   "source": [
    "data_points = 10000\n",
    "\n",
    "#valores aleatorios para cada q1 y q2 \n",
    "q1 = np.random.uniform(-10e-6, 10e-6,data_points)\n",
    "q2 = np.random.uniform(-10e-6, 10e-6,data_points)\n",
    "\n",
    "#valores aleatorios de posicion para cada una de las cargas\n",
    "r1 = np.random.uniform(-100,100,(data_points,3))\n",
    "r2 = np.random.uniform(-100,100,(data_points,3))\n",
    "\n",
    "vector_de_direccion = r1 - r2\n",
    "r_de_FCoul = np.linalg.norm(r1-r2,axis=1) #magnitud de vector"
   ]
  },
  {
   "cell_type": "code",
   "execution_count": 16,
   "metadata": {},
   "outputs": [],
   "source": [
    "#Creamos la base de datos de permeabilidad de material\n",
    "\n",
    "db_permitividad = {}\n",
    "\n",
    "with open('permitividad_de_materiales.csv',newline='') as csvfile:\n",
    "    reader = csv.DictReader(csvfile)\n",
    "    for row in reader:\n",
    "        material = row['Material']\n",
    "        permitividad = float(row['Permitvidad relativa'])\n",
    "        db_permitividad[material]=permitividad\n"
   ]
  },
  {
   "cell_type": "code",
   "execution_count": 17,
   "metadata": {},
   "outputs": [
    {
     "name": "stdout",
     "output_type": "stream",
     "text": [
      "{'Vacío': 1.0, 'Aire seco': 10059.0, 'Agua 200C': 80.1, 'Alcohol': 30.0, 'Aceite mineral': 1.7, 'Papel': 3.7, 'Poliestireno': 2.5, 'Porcelana': 5.0, 'Mica': 7.0, 'Vidrio': 5.4, 'Madera': 2.0, 'Teflón': 2.1, 'Nylon': 3.5, 'Silicio': 12.0, 'Germanio': 16.0}\n"
     ]
    }
   ],
   "source": [
    "print(db_permitividad)"
   ]
  },
  {
   "cell_type": "code",
   "execution_count": 18,
   "metadata": {},
   "outputs": [
    {
     "name": "stdout",
     "output_type": "stream",
     "text": [
      "La permitividad de Vacío multiplicado por la constante de permitividad es igual a 8.854e-12 \n"
     ]
    }
   ],
   "source": [
    "#Volvemos a la parte de la segunda celda donde trabajamos con la Ley de Coulomb\n",
    "epsilon_material = input(\"Material: \")\n",
    "permitividad = db_permitividad.get(epsilon_material)\n",
    "\n",
    "if permitividad is not None:\n",
    "    epsilon = permitividad * 8.854e-12\n",
    "    print(f\"La permitividad de {epsilon_material} multiplicado por la constante de permitividad es igual a {epsilon} \")\n",
    "else:\n",
    "    print(\"No existe información del material\")\n",
    "\n"
   ]
  },
  {
   "cell_type": "code",
   "execution_count": 30,
   "metadata": {},
   "outputs": [],
   "source": [
    "F =((q1*q2)/(4*np.pi*epsilon*r_de_FCoul**2))"
   ]
  },
  {
   "cell_type": "code",
   "execution_count": 35,
   "metadata": {},
   "outputs": [],
   "source": [
    "dataset_de_F = np.column_stack((q1,q2,r_de_FCoul,F))"
   ]
  },
  {
   "cell_type": "code",
   "execution_count": 37,
   "metadata": {},
   "outputs": [],
   "source": [
    "df_de_FCoulomb = pd.DataFrame(dataset_de_F,columns=['q1','q2','r_de_Fcoul','F'])"
   ]
  },
  {
   "cell_type": "code",
   "execution_count": 42,
   "metadata": {},
   "outputs": [
    {
     "data": {
      "text/html": [
       "<div>\n",
       "<style scoped>\n",
       "    .dataframe tbody tr th:only-of-type {\n",
       "        vertical-align: middle;\n",
       "    }\n",
       "\n",
       "    .dataframe tbody tr th {\n",
       "        vertical-align: top;\n",
       "    }\n",
       "\n",
       "    .dataframe thead th {\n",
       "        text-align: right;\n",
       "    }\n",
       "</style>\n",
       "<table border=\"1\" class=\"dataframe\">\n",
       "  <thead>\n",
       "    <tr style=\"text-align: right;\">\n",
       "      <th></th>\n",
       "      <th>q1</th>\n",
       "      <th>q2</th>\n",
       "      <th>r_de_Fcoul</th>\n",
       "      <th>F</th>\n",
       "    </tr>\n",
       "  </thead>\n",
       "  <tbody>\n",
       "    <tr>\n",
       "      <th>0</th>\n",
       "      <td>0.000002</td>\n",
       "      <td>-8.732186e-06</td>\n",
       "      <td>185.717160</td>\n",
       "      <td>-4.716932e-06</td>\n",
       "    </tr>\n",
       "    <tr>\n",
       "      <th>1</th>\n",
       "      <td>-0.000003</td>\n",
       "      <td>-8.321764e-06</td>\n",
       "      <td>93.708642</td>\n",
       "      <td>2.442311e-05</td>\n",
       "    </tr>\n",
       "    <tr>\n",
       "      <th>2</th>\n",
       "      <td>-0.000003</td>\n",
       "      <td>1.063260e-07</td>\n",
       "      <td>90.609655</td>\n",
       "      <td>-3.412953e-07</td>\n",
       "    </tr>\n",
       "    <tr>\n",
       "      <th>3</th>\n",
       "      <td>-0.000007</td>\n",
       "      <td>6.137591e-07</td>\n",
       "      <td>72.660786</td>\n",
       "      <td>-6.994800e-06</td>\n",
       "    </tr>\n",
       "    <tr>\n",
       "      <th>4</th>\n",
       "      <td>-0.000004</td>\n",
       "      <td>8.558913e-06</td>\n",
       "      <td>198.409088</td>\n",
       "      <td>-7.317243e-06</td>\n",
       "    </tr>\n",
       "  </tbody>\n",
       "</table>\n",
       "</div>"
      ],
      "text/plain": [
       "         q1            q2  r_de_Fcoul             F\n",
       "0  0.000002 -8.732186e-06  185.717160 -4.716932e-06\n",
       "1 -0.000003 -8.321764e-06   93.708642  2.442311e-05\n",
       "2 -0.000003  1.063260e-07   90.609655 -3.412953e-07\n",
       "3 -0.000007  6.137591e-07   72.660786 -6.994800e-06\n",
       "4 -0.000004  8.558913e-06  198.409088 -7.317243e-06"
      ]
     },
     "execution_count": 42,
     "metadata": {},
     "output_type": "execute_result"
    }
   ],
   "source": [
    "df_de_FCoulomb.head()"
   ]
  }
 ],
 "metadata": {
  "kernelspec": {
   "display_name": "Python 3",
   "language": "python",
   "name": "python3"
  },
  "language_info": {
   "codemirror_mode": {
    "name": "ipython",
    "version": 3
   },
   "file_extension": ".py",
   "mimetype": "text/x-python",
   "name": "python",
   "nbconvert_exporter": "python",
   "pygments_lexer": "ipython3",
   "version": "3.10.12"
  }
 },
 "nbformat": 4,
 "nbformat_minor": 2
}
