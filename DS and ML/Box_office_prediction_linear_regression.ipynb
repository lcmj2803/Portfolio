{
 "cells": [
  {
   "cell_type": "code",
   "execution_count": 34,
   "metadata": {},
   "outputs": [],
   "source": [
    "import pandas as pd\n",
    "import numpy as np\n",
    "import matplotlib.pyplot as plt\n",
    "import seaborn as sb \n",
    "from sklearn.model_selection import train_test_split\n",
    "from sklearn.preprocessing import LabelEncoder, StandardScaler\n",
    "from sklearn.feature_extraction.text import CountVectorizer\n",
    "from sklearn import metrics\n",
    "import warnings "
   ]
  },
  {
   "cell_type": "code",
   "execution_count": 35,
   "metadata": {},
   "outputs": [],
   "source": [
    "warnings.filterwarnings('ignore')"
   ]
  },
  {
   "cell_type": "code",
   "execution_count": 36,
   "metadata": {},
   "outputs": [
    {
     "data": {
      "text/html": [
       "<div>\n",
       "<style scoped>\n",
       "    .dataframe tbody tr th:only-of-type {\n",
       "        vertical-align: middle;\n",
       "    }\n",
       "\n",
       "    .dataframe tbody tr th {\n",
       "        vertical-align: top;\n",
       "    }\n",
       "\n",
       "    .dataframe thead th {\n",
       "        text-align: right;\n",
       "    }\n",
       "</style>\n",
       "<table border=\"1\" class=\"dataframe\">\n",
       "  <thead>\n",
       "    <tr style=\"text-align: right;\">\n",
       "      <th></th>\n",
       "      <th>title</th>\n",
       "      <th>domestic_revenue</th>\n",
       "      <th>world_revenue</th>\n",
       "      <th>distributor</th>\n",
       "      <th>opening_revenue</th>\n",
       "      <th>opening_theaters</th>\n",
       "      <th>budget</th>\n",
       "      <th>MPAA</th>\n",
       "      <th>genres</th>\n",
       "      <th>release_days</th>\n",
       "    </tr>\n",
       "  </thead>\n",
       "  <tbody>\n",
       "    <tr>\n",
       "      <th>0</th>\n",
       "      <td>Star Wars: Episode VIII - The Last Jedi</td>\n",
       "      <td>$620,181,382</td>\n",
       "      <td>$1,332,539,889</td>\n",
       "      <td>Walt Disney Studios Motion Pictures</td>\n",
       "      <td>$220,009,584</td>\n",
       "      <td>4,232</td>\n",
       "      <td>$317,000,000</td>\n",
       "      <td>PG-13</td>\n",
       "      <td>Action,Adventure,Fantasy,Sci-Fi</td>\n",
       "      <td>382</td>\n",
       "    </tr>\n",
       "    <tr>\n",
       "      <th>1</th>\n",
       "      <td>The Fate of the Furious</td>\n",
       "      <td>$226,008,385</td>\n",
       "      <td>$1,236,005,118</td>\n",
       "      <td>Universal Pictures</td>\n",
       "      <td>$98,786,705</td>\n",
       "      <td>4,310</td>\n",
       "      <td>$250,000,000</td>\n",
       "      <td>PG-13</td>\n",
       "      <td>Action,Adventure,Thriller</td>\n",
       "      <td>262</td>\n",
       "    </tr>\n",
       "    <tr>\n",
       "      <th>2</th>\n",
       "      <td>Wonder Woman</td>\n",
       "      <td>$412,563,408</td>\n",
       "      <td>$821,847,012</td>\n",
       "      <td>Warner Bros.</td>\n",
       "      <td>$103,251,471</td>\n",
       "      <td>4,165</td>\n",
       "      <td>$149,000,000</td>\n",
       "      <td>PG-13</td>\n",
       "      <td>Action,Adventure,Fantasy,Sci-Fi,War</td>\n",
       "      <td>217</td>\n",
       "    </tr>\n",
       "    <tr>\n",
       "      <th>3</th>\n",
       "      <td>Guardians of the Galaxy Vol. 2</td>\n",
       "      <td>$389,813,101</td>\n",
       "      <td>$863,756,051</td>\n",
       "      <td>Walt Disney Studios Motion Pictures</td>\n",
       "      <td>$146,510,104</td>\n",
       "      <td>4,347</td>\n",
       "      <td>$200,000,000</td>\n",
       "      <td>PG-13</td>\n",
       "      <td>Action,Adventure,Comedy,Sci-Fi</td>\n",
       "      <td>241</td>\n",
       "    </tr>\n",
       "    <tr>\n",
       "      <th>4</th>\n",
       "      <td>Beauty and the Beast</td>\n",
       "      <td>$504,014,165</td>\n",
       "      <td>$1,263,521,126</td>\n",
       "      <td>Walt Disney Studios Motion Pictures</td>\n",
       "      <td>$174,750,616</td>\n",
       "      <td>4,210</td>\n",
       "      <td>$160,000,000</td>\n",
       "      <td>PG</td>\n",
       "      <td>Family,Fantasy,Musical,Romance</td>\n",
       "      <td>290</td>\n",
       "    </tr>\n",
       "  </tbody>\n",
       "</table>\n",
       "</div>"
      ],
      "text/plain": [
       "                                     title domestic_revenue   world_revenue   \n",
       "0  Star Wars: Episode VIII - The Last Jedi     $620,181,382  $1,332,539,889  \\\n",
       "1                  The Fate of the Furious     $226,008,385  $1,236,005,118   \n",
       "2                             Wonder Woman     $412,563,408    $821,847,012   \n",
       "3           Guardians of the Galaxy Vol. 2     $389,813,101    $863,756,051   \n",
       "4                     Beauty and the Beast     $504,014,165  $1,263,521,126   \n",
       "\n",
       "                           distributor opening_revenue opening_theaters   \n",
       "0  Walt Disney Studios Motion Pictures    $220,009,584            4,232  \\\n",
       "1                   Universal Pictures     $98,786,705            4,310   \n",
       "2                         Warner Bros.    $103,251,471            4,165   \n",
       "3  Walt Disney Studios Motion Pictures    $146,510,104            4,347   \n",
       "4  Walt Disney Studios Motion Pictures    $174,750,616            4,210   \n",
       "\n",
       "         budget   MPAA                               genres release_days  \n",
       "0  $317,000,000  PG-13      Action,Adventure,Fantasy,Sci-Fi          382  \n",
       "1  $250,000,000  PG-13            Action,Adventure,Thriller          262  \n",
       "2  $149,000,000  PG-13  Action,Adventure,Fantasy,Sci-Fi,War          217  \n",
       "3  $200,000,000  PG-13       Action,Adventure,Comedy,Sci-Fi          241  \n",
       "4  $160,000,000     PG       Family,Fantasy,Musical,Romance          290  "
      ]
     },
     "execution_count": 36,
     "metadata": {},
     "output_type": "execute_result"
    }
   ],
   "source": [
    "df_de_taquilla = pd.read_csv('boxoffice.csv',encoding ='latin-1')\n",
    "df_de_taquilla.head()"
   ]
  },
  {
   "cell_type": "code",
   "execution_count": 37,
   "metadata": {},
   "outputs": [
    {
     "name": "stdout",
     "output_type": "stream",
     "text": [
      "(2694, 10)\n",
      "<class 'pandas.core.frame.DataFrame'>\n",
      "RangeIndex: 2694 entries, 0 to 2693\n",
      "Data columns (total 10 columns):\n",
      " #   Column            Non-Null Count  Dtype \n",
      "---  ------            --------------  ----- \n",
      " 0   title             2694 non-null   object\n",
      " 1   domestic_revenue  2694 non-null   object\n",
      " 2   world_revenue     2694 non-null   object\n",
      " 3   distributor       2694 non-null   object\n",
      " 4   opening_revenue   2390 non-null   object\n",
      " 5   opening_theaters  2383 non-null   object\n",
      " 6   budget            397 non-null    object\n",
      " 7   MPAA              1225 non-null   object\n",
      " 8   genres            2655 non-null   object\n",
      " 9   release_days      2694 non-null   object\n",
      "dtypes: object(10)\n",
      "memory usage: 210.6+ KB\n"
     ]
    }
   ],
   "source": [
    "forma = df_de_taquilla.shape\n",
    "print(forma)\n",
    "info = df_de_taquilla.info()"
   ]
  },
  {
   "cell_type": "code",
   "execution_count": 38,
   "metadata": {},
   "outputs": [
    {
     "data": {
      "text/html": [
       "<div>\n",
       "<style scoped>\n",
       "    .dataframe tbody tr th:only-of-type {\n",
       "        vertical-align: middle;\n",
       "    }\n",
       "\n",
       "    .dataframe tbody tr th {\n",
       "        vertical-align: top;\n",
       "    }\n",
       "\n",
       "    .dataframe thead th {\n",
       "        text-align: right;\n",
       "    }\n",
       "</style>\n",
       "<table border=\"1\" class=\"dataframe\">\n",
       "  <thead>\n",
       "    <tr style=\"text-align: right;\">\n",
       "      <th></th>\n",
       "      <th>count</th>\n",
       "      <th>unique</th>\n",
       "      <th>top</th>\n",
       "      <th>freq</th>\n",
       "    </tr>\n",
       "  </thead>\n",
       "  <tbody>\n",
       "    <tr>\n",
       "      <th>title</th>\n",
       "      <td>2694</td>\n",
       "      <td>2468</td>\n",
       "      <td>A Beautiful Planet</td>\n",
       "      <td>3</td>\n",
       "    </tr>\n",
       "    <tr>\n",
       "      <th>domestic_revenue</th>\n",
       "      <td>2694</td>\n",
       "      <td>2495</td>\n",
       "      <td>$11,272,008</td>\n",
       "      <td>3</td>\n",
       "    </tr>\n",
       "    <tr>\n",
       "      <th>world_revenue</th>\n",
       "      <td>2694</td>\n",
       "      <td>2501</td>\n",
       "      <td>$25,681,505</td>\n",
       "      <td>3</td>\n",
       "    </tr>\n",
       "    <tr>\n",
       "      <th>distributor</th>\n",
       "      <td>2694</td>\n",
       "      <td>248</td>\n",
       "      <td>Fathom Events</td>\n",
       "      <td>292</td>\n",
       "    </tr>\n",
       "    <tr>\n",
       "      <th>opening_revenue</th>\n",
       "      <td>2390</td>\n",
       "      <td>2176</td>\n",
       "      <td>$4,696</td>\n",
       "      <td>3</td>\n",
       "    </tr>\n",
       "    <tr>\n",
       "      <th>opening_theaters</th>\n",
       "      <td>2383</td>\n",
       "      <td>732</td>\n",
       "      <td>1</td>\n",
       "      <td>503</td>\n",
       "    </tr>\n",
       "    <tr>\n",
       "      <th>budget</th>\n",
       "      <td>397</td>\n",
       "      <td>124</td>\n",
       "      <td>$40,000,000</td>\n",
       "      <td>14</td>\n",
       "    </tr>\n",
       "    <tr>\n",
       "      <th>MPAA</th>\n",
       "      <td>1225</td>\n",
       "      <td>8</td>\n",
       "      <td>R</td>\n",
       "      <td>568</td>\n",
       "    </tr>\n",
       "    <tr>\n",
       "      <th>genres</th>\n",
       "      <td>2655</td>\n",
       "      <td>567</td>\n",
       "      <td>Documentary</td>\n",
       "      <td>351</td>\n",
       "    </tr>\n",
       "    <tr>\n",
       "      <th>release_days</th>\n",
       "      <td>2694</td>\n",
       "      <td>457</td>\n",
       "      <td>347</td>\n",
       "      <td>35</td>\n",
       "    </tr>\n",
       "  </tbody>\n",
       "</table>\n",
       "</div>"
      ],
      "text/plain": [
       "                 count unique                 top freq\n",
       "title             2694   2468  A Beautiful Planet    3\n",
       "domestic_revenue  2694   2495         $11,272,008    3\n",
       "world_revenue     2694   2501         $25,681,505    3\n",
       "distributor       2694    248       Fathom Events  292\n",
       "opening_revenue   2390   2176              $4,696    3\n",
       "opening_theaters  2383    732                   1  503\n",
       "budget             397    124         $40,000,000   14\n",
       "MPAA              1225      8                   R  568\n",
       "genres            2655    567         Documentary  351\n",
       "release_days      2694    457                 347   35"
      ]
     },
     "execution_count": 38,
     "metadata": {},
     "output_type": "execute_result"
    }
   ],
   "source": [
    "df_de_taquilla.describe().T"
   ]
  },
  {
   "cell_type": "code",
   "execution_count": 39,
   "metadata": {},
   "outputs": [],
   "source": [
    "quitar = ['world_revenue','opening_revenue']\n",
    "\n",
    "df_de_taquilla.drop(quitar,axis=1,inplace = True)"
   ]
  },
  {
   "cell_type": "code",
   "execution_count": 20,
   "metadata": {},
   "outputs": [
    {
     "data": {
      "text/plain": [
       "title                0.000000\n",
       "domestic_revenue     0.000000\n",
       "distributor          0.000000\n",
       "opening_theaters    11.544172\n",
       "budget              85.263549\n",
       "MPAA                54.528582\n",
       "genres               1.447661\n",
       "release_days         0.000000\n",
       "dtype: float64"
      ]
     },
     "execution_count": 20,
     "metadata": {},
     "output_type": "execute_result"
    }
   ],
   "source": [
    "df_de_taquilla.isnull().sum() * 100 / df_de_taquilla.shape[0]\n"
   ]
  },
  {
   "cell_type": "code",
   "execution_count": 21,
   "metadata": {},
   "outputs": [],
   "source": [
    "df_de_taquilla.drop('budget',axis=1, inplace=True)"
   ]
  },
  {
   "cell_type": "code",
   "execution_count": 22,
   "metadata": {},
   "outputs": [
    {
     "data": {
      "text/plain": [
       "0"
      ]
     },
     "execution_count": 22,
     "metadata": {},
     "output_type": "execute_result"
    }
   ],
   "source": [
    "for col in ['MPAA','genres']:\n",
    "    df_de_taquilla[col] =df_de_taquilla[col].fillna(df_de_taquilla[col].mode()[0])\n",
    "\n",
    "df_de_taquilla.dropna(inplace=True)\n",
    "df_de_taquilla.isnull().sum().sum()"
   ]
  },
  {
   "cell_type": "code",
   "execution_count": 23,
   "metadata": {},
   "outputs": [],
   "source": [
    "df_de_taquilla['domestic_revenue']=df_de_taquilla['domestic_revenue'].str[1:]\n",
    "\n",
    "for col in ['domestic_revenue','opening_theaters','release_days']:\n",
    "    df_de_taquilla[col]= df_de_taquilla[col].str.replace(',', '')\n",
    "    #filas con valores no null en las columnas que estudiamos \n",
    "\n",
    "    temp = (~df_de_taquilla[col].isnull())\n",
    "    df_de_taquilla[temp][col] = df_de_taquilla[temp][col].convert_dtypes(float)\n",
    "\n",
    "    df_de_taquilla[col]= pd.to_numeric(df_de_taquilla[col], errors = 'coerce')"
   ]
  },
  {
   "cell_type": "code",
   "execution_count": 24,
   "metadata": {},
   "outputs": [
    {
     "data": {
      "text/html": [
       "<div>\n",
       "<style scoped>\n",
       "    .dataframe tbody tr th:only-of-type {\n",
       "        vertical-align: middle;\n",
       "    }\n",
       "\n",
       "    .dataframe tbody tr th {\n",
       "        vertical-align: top;\n",
       "    }\n",
       "\n",
       "    .dataframe thead th {\n",
       "        text-align: right;\n",
       "    }\n",
       "</style>\n",
       "<table border=\"1\" class=\"dataframe\">\n",
       "  <thead>\n",
       "    <tr style=\"text-align: right;\">\n",
       "      <th></th>\n",
       "      <th>title</th>\n",
       "      <th>domestic_revenue</th>\n",
       "      <th>distributor</th>\n",
       "      <th>opening_theaters</th>\n",
       "      <th>MPAA</th>\n",
       "      <th>genres</th>\n",
       "      <th>release_days</th>\n",
       "    </tr>\n",
       "  </thead>\n",
       "  <tbody>\n",
       "    <tr>\n",
       "      <th>0</th>\n",
       "      <td>Star Wars: Episode VIII - The Last Jedi</td>\n",
       "      <td>620181382</td>\n",
       "      <td>Walt Disney Studios Motion Pictures</td>\n",
       "      <td>4232</td>\n",
       "      <td>PG-13</td>\n",
       "      <td>Action,Adventure,Fantasy,Sci-Fi</td>\n",
       "      <td>382</td>\n",
       "    </tr>\n",
       "    <tr>\n",
       "      <th>1</th>\n",
       "      <td>The Fate of the Furious</td>\n",
       "      <td>226008385</td>\n",
       "      <td>Universal Pictures</td>\n",
       "      <td>4310</td>\n",
       "      <td>PG-13</td>\n",
       "      <td>Action,Adventure,Thriller</td>\n",
       "      <td>262</td>\n",
       "    </tr>\n",
       "    <tr>\n",
       "      <th>2</th>\n",
       "      <td>Wonder Woman</td>\n",
       "      <td>412563408</td>\n",
       "      <td>Warner Bros.</td>\n",
       "      <td>4165</td>\n",
       "      <td>PG-13</td>\n",
       "      <td>Action,Adventure,Fantasy,Sci-Fi,War</td>\n",
       "      <td>217</td>\n",
       "    </tr>\n",
       "    <tr>\n",
       "      <th>3</th>\n",
       "      <td>Guardians of the Galaxy Vol. 2</td>\n",
       "      <td>389813101</td>\n",
       "      <td>Walt Disney Studios Motion Pictures</td>\n",
       "      <td>4347</td>\n",
       "      <td>PG-13</td>\n",
       "      <td>Action,Adventure,Comedy,Sci-Fi</td>\n",
       "      <td>241</td>\n",
       "    </tr>\n",
       "    <tr>\n",
       "      <th>4</th>\n",
       "      <td>Beauty and the Beast</td>\n",
       "      <td>504014165</td>\n",
       "      <td>Walt Disney Studios Motion Pictures</td>\n",
       "      <td>4210</td>\n",
       "      <td>PG</td>\n",
       "      <td>Family,Fantasy,Musical,Romance</td>\n",
       "      <td>290</td>\n",
       "    </tr>\n",
       "  </tbody>\n",
       "</table>\n",
       "</div>"
      ],
      "text/plain": [
       "                                     title  domestic_revenue   \n",
       "0  Star Wars: Episode VIII - The Last Jedi         620181382  \\\n",
       "1                  The Fate of the Furious         226008385   \n",
       "2                             Wonder Woman         412563408   \n",
       "3           Guardians of the Galaxy Vol. 2         389813101   \n",
       "4                     Beauty and the Beast         504014165   \n",
       "\n",
       "                           distributor  opening_theaters   MPAA   \n",
       "0  Walt Disney Studios Motion Pictures              4232  PG-13  \\\n",
       "1                   Universal Pictures              4310  PG-13   \n",
       "2                         Warner Bros.              4165  PG-13   \n",
       "3  Walt Disney Studios Motion Pictures              4347  PG-13   \n",
       "4  Walt Disney Studios Motion Pictures              4210     PG   \n",
       "\n",
       "                                genres  release_days  \n",
       "0      Action,Adventure,Fantasy,Sci-Fi           382  \n",
       "1            Action,Adventure,Thriller           262  \n",
       "2  Action,Adventure,Fantasy,Sci-Fi,War           217  \n",
       "3       Action,Adventure,Comedy,Sci-Fi           241  \n",
       "4       Family,Fantasy,Musical,Romance           290  "
      ]
     },
     "execution_count": 24,
     "metadata": {},
     "output_type": "execute_result"
    }
   ],
   "source": [
    "df_de_taquilla.head()"
   ]
  },
  {
   "cell_type": "code",
   "execution_count": 25,
   "metadata": {},
   "outputs": [
    {
     "data": {
      "text/html": [
       "<div>\n",
       "<style scoped>\n",
       "    .dataframe tbody tr th:only-of-type {\n",
       "        vertical-align: middle;\n",
       "    }\n",
       "\n",
       "    .dataframe tbody tr th {\n",
       "        vertical-align: top;\n",
       "    }\n",
       "\n",
       "    .dataframe thead th {\n",
       "        text-align: right;\n",
       "    }\n",
       "</style>\n",
       "<table border=\"1\" class=\"dataframe\">\n",
       "  <thead>\n",
       "    <tr style=\"text-align: right;\">\n",
       "      <th></th>\n",
       "      <th>count</th>\n",
       "      <th>mean</th>\n",
       "      <th>std</th>\n",
       "      <th>min</th>\n",
       "      <th>25%</th>\n",
       "      <th>50%</th>\n",
       "      <th>75%</th>\n",
       "      <th>max</th>\n",
       "    </tr>\n",
       "  </thead>\n",
       "  <tbody>\n",
       "    <tr>\n",
       "      <th>domestic_revenue</th>\n",
       "      <td>2383.0</td>\n",
       "      <td>1.904864e+07</td>\n",
       "      <td>6.244193e+07</td>\n",
       "      <td>147.0</td>\n",
       "      <td>34519.0</td>\n",
       "      <td>272132.0</td>\n",
       "      <td>5080868.5</td>\n",
       "      <td>858373000.0</td>\n",
       "    </tr>\n",
       "    <tr>\n",
       "      <th>opening_theaters</th>\n",
       "      <td>2383.0</td>\n",
       "      <td>6.594830e+02</td>\n",
       "      <td>1.245347e+03</td>\n",
       "      <td>1.0</td>\n",
       "      <td>2.0</td>\n",
       "      <td>8.0</td>\n",
       "      <td>521.5</td>\n",
       "      <td>4725.0</td>\n",
       "    </tr>\n",
       "    <tr>\n",
       "      <th>release_days</th>\n",
       "      <td>2383.0</td>\n",
       "      <td>2.973563e+02</td>\n",
       "      <td>3.970007e+02</td>\n",
       "      <td>12.0</td>\n",
       "      <td>144.0</td>\n",
       "      <td>256.0</td>\n",
       "      <td>354.0</td>\n",
       "      <td>6507.0</td>\n",
       "    </tr>\n",
       "  </tbody>\n",
       "</table>\n",
       "</div>"
      ],
      "text/plain": [
       "                   count          mean           std    min      25%   \n",
       "domestic_revenue  2383.0  1.904864e+07  6.244193e+07  147.0  34519.0  \\\n",
       "opening_theaters  2383.0  6.594830e+02  1.245347e+03    1.0      2.0   \n",
       "release_days      2383.0  2.973563e+02  3.970007e+02   12.0    144.0   \n",
       "\n",
       "                       50%        75%          max  \n",
       "domestic_revenue  272132.0  5080868.5  858373000.0  \n",
       "opening_theaters       8.0      521.5       4725.0  \n",
       "release_days         256.0      354.0       6507.0  "
      ]
     },
     "execution_count": 25,
     "metadata": {},
     "output_type": "execute_result"
    }
   ],
   "source": [
    "df_de_taquilla.describe().T"
   ]
  },
  {
   "cell_type": "code",
   "execution_count": 26,
   "metadata": {},
   "outputs": [
    {
     "data": {
      "image/png": "[encoded data removed]",
      "text/plain": [
       "<Figure size 1000x500 with 1 Axes>"
      ]
     },
     "metadata": {},
     "output_type": "display_data"
    }
   ],
   "source": [
    "plt.figure(figsize=(10,5))\n",
    "sb.countplot(df_de_taquilla['MPAA'])\n",
    "plt.show()"
   ]
  },
  {
   "cell_type": "code",
   "execution_count": 33,
   "metadata": {},
   "outputs": [
    {
     "data": {
      "text/plain": [
       "MPAA\n",
       "G            3.539276e+07\n",
       "M/PG         5.113500e+05\n",
       "NC-17        1.368800e+04\n",
       "Not Rated    4.897703e+05\n",
       "PG           5.379622e+07\n",
       "PG-13        5.891966e+07\n",
       "R            6.591336e+06\n",
       "Name: domestic_revenue, dtype: float64"
      ]
     },
     "execution_count": 33,
     "metadata": {},
     "output_type": "execute_result"
    }
   ],
   "source": [
    "\n",
    "\"\"\"\n",
    "Aqui hubo un problema, en el mean hay que poner el argumento ese sino no funciona \n",
    "\"\"\"\n",
    "df_de_taquilla.groupby('MPAA').mean(numeric_only=True)['domestic_revenue']\n"
   ]
  },
  {
   "cell_type": "code",
   "execution_count": 40,
   "metadata": {},
   "outputs": [
    {
     "ename": "ValueError",
     "evalue": "could not convert string to float: '$620,181,382'",
     "output_type": "error",
     "traceback": [
      "\u001b[0;31m---------------------------------------------------------------------------\u001b[0m",
      "\u001b[0;31mValueError\u001b[0m                                Traceback (most recent call last)",
      "\u001b[1;32m/home/lcmj2803/Documentos/GitHub/Portfolio/DS and ML/Box_office_prediction_linear_regression.ipynb Cell 15\u001b[0m line \u001b[0;36m6\n\u001b[1;32m      <a href='vscode-notebook-cell:/home/lcmj2803/Documentos/GitHub/Portfolio/DS%20and%20ML/Box_office_prediction_linear_regression.ipynb#X20sZmlsZQ%3D%3D?line=3'>4</a>\u001b[0m \u001b[39mfor\u001b[39;00m i,col \u001b[39min\u001b[39;00m \u001b[39menumerate\u001b[39m(features):\n\u001b[1;32m      <a href='vscode-notebook-cell:/home/lcmj2803/Documentos/GitHub/Portfolio/DS%20and%20ML/Box_office_prediction_linear_regression.ipynb#X20sZmlsZQ%3D%3D?line=4'>5</a>\u001b[0m     plt\u001b[39m.\u001b[39msubplot(\u001b[39m1\u001b[39m, \u001b[39m3\u001b[39m, i\u001b[39m+\u001b[39m\u001b[39m1\u001b[39m)\n\u001b[0;32m----> <a href='vscode-notebook-cell:/home/lcmj2803/Documentos/GitHub/Portfolio/DS%20and%20ML/Box_office_prediction_linear_regression.ipynb#X20sZmlsZQ%3D%3D?line=5'>6</a>\u001b[0m     sb\u001b[39m.\u001b[39;49mdistplot(df_de_taquilla[col])\n\u001b[1;32m      <a href='vscode-notebook-cell:/home/lcmj2803/Documentos/GitHub/Portfolio/DS%20and%20ML/Box_office_prediction_linear_regression.ipynb#X20sZmlsZQ%3D%3D?line=7'>8</a>\u001b[0m plt\u001b[39m.\u001b[39mtight_layout()\n\u001b[1;32m      <a href='vscode-notebook-cell:/home/lcmj2803/Documentos/GitHub/Portfolio/DS%20and%20ML/Box_office_prediction_linear_regression.ipynb#X20sZmlsZQ%3D%3D?line=8'>9</a>\u001b[0m plt\u001b[39m.\u001b[39mshow()\n",
      "File \u001b[0;32m/usr/lib/python3/dist-packages/seaborn/distributions.py:2636\u001b[0m, in \u001b[0;36mdistplot\u001b[0;34m(a, bins, hist, kde, rug, fit, hist_kws, kde_kws, rug_kws, fit_kws, color, vertical, norm_hist, axlabel, label, ax, x)\u001b[0m\n\u001b[1;32m   2633\u001b[0m     a \u001b[39m=\u001b[39m x\n\u001b[1;32m   2635\u001b[0m \u001b[39m# Make a a 1-d float array\u001b[39;00m\n\u001b[0;32m-> 2636\u001b[0m a \u001b[39m=\u001b[39m np\u001b[39m.\u001b[39;49masarray(a, \u001b[39mfloat\u001b[39;49m)\n\u001b[1;32m   2637\u001b[0m \u001b[39mif\u001b[39;00m a\u001b[39m.\u001b[39mndim \u001b[39m>\u001b[39m \u001b[39m1\u001b[39m:\n\u001b[1;32m   2638\u001b[0m     a \u001b[39m=\u001b[39m a\u001b[39m.\u001b[39msqueeze()\n",
      "File \u001b[0;32m/usr/local/lib/python3.10/dist-packages/pandas/core/series.py:917\u001b[0m, in \u001b[0;36mSeries.__array__\u001b[0;34m(self, dtype)\u001b[0m\n\u001b[1;32m    870\u001b[0m \u001b[39m\"\"\"\u001b[39;00m\n\u001b[1;32m    871\u001b[0m \u001b[39mReturn the values as a NumPy array.\u001b[39;00m\n\u001b[1;32m    872\u001b[0m \n\u001b[0;32m   (...)\u001b[0m\n\u001b[1;32m    914\u001b[0m \u001b[39m      dtype='datetime64[ns]')\u001b[39;00m\n\u001b[1;32m    915\u001b[0m \u001b[39m\"\"\"\u001b[39;00m\n\u001b[1;32m    916\u001b[0m values \u001b[39m=\u001b[39m \u001b[39mself\u001b[39m\u001b[39m.\u001b[39m_values\n\u001b[0;32m--> 917\u001b[0m arr \u001b[39m=\u001b[39m np\u001b[39m.\u001b[39;49masarray(values, dtype\u001b[39m=\u001b[39;49mdtype)\n\u001b[1;32m    918\u001b[0m \u001b[39mif\u001b[39;00m using_copy_on_write() \u001b[39mand\u001b[39;00m astype_is_view(values\u001b[39m.\u001b[39mdtype, arr\u001b[39m.\u001b[39mdtype):\n\u001b[1;32m    919\u001b[0m     arr \u001b[39m=\u001b[39m arr\u001b[39m.\u001b[39mview()\n",
      "\u001b[0;31mValueError\u001b[0m: could not convert string to float: '$620,181,382'"
     ]
    },
    {
     "data": {
      "image/png": "[encoded data removed]",
      "text/plain": [
       "<Figure size 1500x500 with 1 Axes>"
      ]
     },
     "metadata": {},
     "output_type": "display_data"
    }
   ],
   "source": [
    "plt.subplots(figsize=(15,5))\n",
    "\n",
    "features = ['domestic_revenue','opening_theaters','release_days']\n",
    "for i,col in enumerate(features):\n",
    "    plt.subplot(1, 3, i+1)\n",
    "    sb.distplot(df_de_taquilla[col])\n",
    "\n",
    "plt.tight_layout()\n",
    "plt.show()"
   ]
  },
  {
   "cell_type": "code",
   "execution_count": null,
   "metadata": {},
   "outputs": [],
   "source": []
  },
  {
   "cell_type": "code",
   "execution_count": null,
   "metadata": {},
   "outputs": [],
   "source": []
  }
 ],
 "metadata": {
  "kernelspec": {
   "display_name": "Python 3",
   "language": "python",
   "name": "python3"
  },
  "language_info": {
   "codemirror_mode": {
    "name": "ipython",
    "version": 3
   },
   "file_extension": ".py",
   "mimetype": "text/x-python",
   "name": "python",
   "nbconvert_exporter": "python",
   "pygments_lexer": "ipython3",
   "version": "3.10.12"
  },
  "orig_nbformat": 4
 },
 "nbformat": 4,
 "nbformat_minor": 2
}
